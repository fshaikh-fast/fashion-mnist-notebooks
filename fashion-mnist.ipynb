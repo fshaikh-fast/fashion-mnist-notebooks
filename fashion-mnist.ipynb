{
 "cells": [
  {
   "cell_type": "code",
   "execution_count": 123,
   "metadata": {},
   "outputs": [
    {
     "name": "stdout",
     "output_type": "stream",
     "text": [
      "Extracting data/fashion/train-images-idx3-ubyte.gz\n",
      "Extracting data/fashion/train-labels-idx1-ubyte.gz\n",
      "Extracting data/fashion/t10k-images-idx3-ubyte.gz\n",
      "Extracting data/fashion/t10k-labels-idx1-ubyte.gz\n"
     ]
    }
   ],
   "source": [
    "from tensorflow.examples.tutorials.mnist import input_data\n",
    "data = input_data.read_data_sets('data/fashion',one_hot=True)\n"
   ]
  },
  {
   "cell_type": "code",
   "execution_count": 124,
   "metadata": {},
   "outputs": [
    {
     "data": {
      "text/plain": [
       "array([[ 1.,  0.,  0., ...,  0.,  0.,  0.],\n",
       "       [ 0.,  0.,  0., ...,  0.,  0.,  0.],\n",
       "       [ 0.,  0.,  0., ...,  1.,  0.,  0.],\n",
       "       ..., \n",
       "       [ 0.,  0.,  0., ...,  0.,  1.,  0.],\n",
       "       [ 0.,  0.,  0., ...,  0.,  1.,  0.],\n",
       "       [ 0.,  0.,  0., ...,  1.,  0.,  0.]])"
      ]
     },
     "execution_count": 124,
     "metadata": {},
     "output_type": "execute_result"
    }
   ],
   "source": [
    "data.train.labels"
   ]
  },
  {
   "cell_type": "code",
   "execution_count": 125,
   "metadata": {},
   "outputs": [
    {
     "data": {
      "image/png": "[encoded data removed]",
      "text/plain": [
       "<matplotlib.figure.Figure at 0x7f0800cf7f60>"
      ]
     },
     "metadata": {},
     "output_type": "display_data"
    }
   ],
   "source": [
    "import matplotlib.pyplot as plt\n",
    "%matplotlib inline\n",
    "pixels = data.train.images[9].reshape((28, 28))\n",
    "plt.imshow(pixels)\n",
    "plt.show()"
   ]
  },
  {
   "cell_type": "code",
   "execution_count": 126,
   "metadata": {
    "collapsed": true
   },
   "outputs": [],
   "source": [
    "import tensorflow as tf\n",
    "\n",
    "x = tf.placeholder(tf.float32, [None, 784])\n",
    "\n",
    "W = tf.Variable(tf.zeros([784, 10]))\n",
    "b = tf.Variable(tf.zeros([10]))\n"
   ]
  },
  {
   "cell_type": "code",
   "execution_count": 127,
   "metadata": {
    "collapsed": true
   },
   "outputs": [],
   "source": [
    "y = tf.nn.softmax(tf.matmul(x, W) + b)"
   ]
  },
  {
   "cell_type": "code",
   "execution_count": 128,
   "metadata": {
    "collapsed": true
   },
   "outputs": [],
   "source": [
    "y_ = tf.placeholder(tf.float32, [None, 10])"
   ]
  },
  {
   "cell_type": "code",
   "execution_count": 129,
   "metadata": {
    "collapsed": true
   },
   "outputs": [],
   "source": [
    "cross_entropy = tf.reduce_mean(-tf.reduce_sum(y_ * tf.log(y), reduction_indices=[1]))"
   ]
  },
  {
   "cell_type": "code",
   "execution_count": 130,
   "metadata": {
    "collapsed": true
   },
   "outputs": [],
   "source": [
    "# What should be the optimal learning rate\n",
    "train_step = tf.train.GradientDescentOptimizer(0.5).minimize(cross_entropy)"
   ]
  },
  {
   "cell_type": "code",
   "execution_count": 131,
   "metadata": {
    "collapsed": true
   },
   "outputs": [],
   "source": [
    "sess = tf.InteractiveSession()"
   ]
  },
  {
   "cell_type": "code",
   "execution_count": 132,
   "metadata": {
    "collapsed": true
   },
   "outputs": [],
   "source": [
    "tf.global_variables_initializer().run()"
   ]
  },
  {
   "cell_type": "markdown",
   "metadata": {},
   "source": [
    "# Why batch size ? \n",
    "\n",
    "A convolutional neural network (CNN) doesn’t process its inputs one-at-a-time: to increase throughput, it will process the data in batches.\n",
    "\n",
    "For CNNs that are trained on images, for example, say your dataset is RGB (3-channel) images that are 256x256 pixels. A single image can be represented by a 3 x 256 x 256 matrix. If you set your batch size to be 10, that means you’re concatenating 10 images together into a 10 x 3 x 256 x 256 matrix.\n",
    "\n",
    "In practice, you’ll create batches of data that are randomly selected from your training set. This is the ‘stochastic’ part of stochastic gradient descent (SGD). During a single forward and backward pass of training, the network will update its parameters according to what’s in the batch. This is why the selection has to be random - if you feed in a batch of only dog images, the CNN will become a little more eager to classify images as dogs after that training iteration.\n",
    "\n",
    "Tuning the batch size is one of the aspects of getting training right - if your batch size is too small, then there will be a lot of variance within a batch, and your training loss curve will bounce around a lot. But if it’s too large, your GPU will run out of memory to hold it, or training will progress too slowly to see if it’s the optimization is diverging early on.\n",
    "\n",
    "I think you’ll also find the answers to this question helpful:"
   ]
  },
  {
   "cell_type": "markdown",
   "metadata": {},
   "source": [
    "# Intuitively, how does mini-batch size affect the performance of (stochastic) gradient descent?\n",
    "\n",
    "Algorithmically speaking, using larger mini-batches in SGD allows you to reduce the variance of your stochastic gradient updates (by taking the average of the gradients in the mini-batch), and this in turn allows you to take bigger step-sizes, which means the optimization algorithm will make progress faster. However, the amount of work done (in terms of number of gradient computations) to reach a certain accuracy in the objective will be the same: with a mini-batch size of n, the variance of the update direction will be reduced by a factor n, so the theory allows you to take step-sizes that are n times larger (see, e.g., [1, end of Section 4.2]), so that a single step will take you roughly to the same accuracy as n steps of SGD with a mini-batch size of 1.\n",
    "\n",
    "This sounds like great news since it suggests that taking very large mini-batches will converge just as quickly in terms of gradient computations as using a single example at a time, which is great because computing the gradient on a large mini-batch is trivial to parallelize (on a GPU, multiple GPUs or even many machines), while using a single example per iteration requires synchronization after each example, which makes parallelization much more challenging.\n",
    "\n",
    "So where's the catch? Well, even though we said that larger mini-batches allow you to use larger step-sizes, the step-size cannot exceed an algorithmic, problem-dependent upper bound which depends on the smoothness of the objective function (typically 1/L, where L is the Lipschitz constant of the \"full\" gradients), so that once you've reached this step-size, increasing the mini-batch size will no longer allow you to increase the step-size, which means the extra computation in computing more gradients will be wasted. As an aside, note that SGD with fixed mini-batch size typically needs smaller step-sizes near the optimum, and in that situation one could consider increasing the batch size instead of decreasing the step-sizes, for improved parallelism.\n",
    "\n",
    "In practice, especially in the case of deep learning with GPUs, larger mini-batches are very attractive computationally. In addition to easy parallelism across processors/machines, they can give much better throughput, for example by making use of efficient data reuse during back-propagation (e.g. doing one matrix-matrix multiply is much more efficient than doing many matrix-vector multiplies, since the latter likely needs to reload matrix data in registers more often), and by wasting less time in data communication round-trips. For these reasons it is quite common in practice to pick batch-sizes that fully leverage the GPU (e.g. until the memory is filled up), and just choose the largest step-size that works well in practice after a few quick trials. If the choice of step-size turns out to be guided by the 1/L (smoothness) constraint, then the variance of the updates will probably be lower than needed, but that's fine since it just means we’ll be able to keep the step-size constant for a longer period of time.\n",
    "\n",
    "Update (June 2017): Facebook managed to scale up this strategy, which they call “linear scaling rule”, to a mini-batch size of 8192 for training state-of-the-art CNNs on ImageNet (Accurate, Large Minibatch SGD: Training ImageNet in 1 Hour). They achieved this by including an initial “warmup” phase to prevent optimization difficulties with large step-sizes in the first few epochs, and by ensuring minimal communication overhead.\n",
    "\n",
    "[1] [1606.04838] Optimization Methods for Large-Scale Machine Learning"
   ]
  },
  {
   "cell_type": "code",
   "execution_count": 133,
   "metadata": {
    "collapsed": true
   },
   "outputs": [],
   "source": [
    "# why training in batches ? how many epochs ?\n",
    "for _ in range(1000):\n",
    "  batch_xs, batch_ys = data.train.next_batch(100)\n",
    "  sess.run(train_step, feed_dict={x: batch_xs, y_: batch_ys})"
   ]
  },
  {
   "cell_type": "code",
   "execution_count": 134,
   "metadata": {
    "collapsed": true
   },
   "outputs": [],
   "source": [
    "correct_prediction = tf.equal(tf.argmax(y,1), tf.argmax(y_,1))"
   ]
  },
  {
   "cell_type": "code",
   "execution_count": 135,
   "metadata": {
    "collapsed": true
   },
   "outputs": [],
   "source": [
    "accuracy = tf.reduce_mean(tf.cast(correct_prediction, tf.float32)) "
   ]
  },
  {
   "cell_type": "code",
   "execution_count": 136,
   "metadata": {},
   "outputs": [
    {
     "name": "stdout",
     "output_type": "stream",
     "text": [
      "0.7889\n"
     ]
    }
   ],
   "source": [
    "print(sess.run(accuracy, feed_dict={x: data.test.images, y_: data.test.labels}))"
   ]
  },
  {
   "cell_type": "code",
   "execution_count": null,
   "metadata": {
    "collapsed": true
   },
   "outputs": [],
   "source": []
  }
 ],
 "metadata": {
  "kernelspec": {
   "display_name": "Python 3",
   "language": "python",
   "name": "python3"
  },
  "language_info": {
   "codemirror_mode": {
    "name": "ipython",
    "version": 3
   },
   "file_extension": ".py",
   "mimetype": "text/x-python",
   "name": "python",
   "nbconvert_exporter": "python",
   "pygments_lexer": "ipython3",
   "version": "3.5.2"
  }
 },
 "nbformat": 4,
 "nbformat_minor": 2
}
